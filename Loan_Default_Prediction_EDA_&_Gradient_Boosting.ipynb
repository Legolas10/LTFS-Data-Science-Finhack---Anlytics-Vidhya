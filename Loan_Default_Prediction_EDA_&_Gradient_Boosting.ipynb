{
  "nbformat": 4,
  "nbformat_minor": 0,
  "metadata": {
    "colab": {
      "name": "Loan Default Prediction - EDA & Gradient Boosting.ipynb",
      "version": "0.3.2",
      "provenance": [],
      "toc_visible": true,
      "include_colab_link": true
    },
    "kernelspec": {
      "name": "python3",
      "display_name": "Python 3"
    },
    "accelerator": "GPU"
  },
  "cells": [
    {
      "cell_type": "markdown",
      "metadata": {
        "id": "view-in-github",
        "colab_type": "text"
      },
      "source": [
        "<a href=\"https://colab.research.google.com/github/sk48880/LTFS-Data-Science-Finhack---Anlytics-Vidhya/blob/master/Loan_Default_Prediction_EDA_%26_Gradient_Boosting.ipynb\" target=\"_parent\"><img src=\"https://colab.research.google.com/assets/colab-badge.svg\" alt=\"Open In Colab\"/></a>"
      ]
    },
    {
      "metadata": {
        "id": "ANefrtGy0dCq",
        "colab_type": "code",
        "colab": {}
      },
      "cell_type": "code",
      "source": [
        "# Code to read csv file into Colaboratory:\n",
        "!pip install -U -q PyDrive\n",
        "from pydrive.auth import GoogleAuth\n",
        "from pydrive.drive import GoogleDrive\n",
        "from google.colab import auth\n",
        "from oauth2client.client import GoogleCredentials\n",
        "\n",
        "# Authenticate and create the PyDrive client.\n",
        "auth.authenticate_user()\n",
        "gauth = GoogleAuth()\n",
        "gauth.credentials = GoogleCredentials.get_application_default()\n",
        "drive = GoogleDrive(gauth)"
      ],
      "execution_count": 0,
      "outputs": []
    },
    {
      "metadata": {
        "id": "v625LNEirEy2",
        "colab_type": "code",
        "outputId": "e13e86ff-13d0-4ef2-ec5f-fb1d7092ad71",
        "colab": {
          "base_uri": "https://localhost:8080/",
          "height": 241
        }
      },
      "cell_type": "code",
      "source": [
        "!pip install catboost"
      ],
      "execution_count": 0,
      "outputs": [
        {
          "output_type": "stream",
          "text": [
            "Collecting catboost\n",
            "\u001b[?25l  Downloading https://files.pythonhosted.org/packages/2f/c4/f130237b24efd1941cb685da12496675a90045129b66774751f1bf629dfd/catboost-0.14.2-cp36-none-manylinux1_x86_64.whl (60.6MB)\n",
            "\u001b[K    100% |████████████████████████████████| 60.6MB 607kB/s \n",
            "\u001b[?25hRequirement already satisfied: six in /usr/local/lib/python3.6/dist-packages (from catboost) (1.11.0)\n",
            "Requirement already satisfied: graphviz in /usr/local/lib/python3.6/dist-packages (from catboost) (0.10.1)\n",
            "Requirement already satisfied: numpy>=1.11.1 in /usr/local/lib/python3.6/dist-packages (from catboost) (1.16.2)\n",
            "Requirement already satisfied: pandas>=0.19.1 in /usr/local/lib/python3.6/dist-packages (from catboost) (0.23.4)\n",
            "Requirement already satisfied: enum34 in /usr/local/lib/python3.6/dist-packages (from catboost) (1.1.6)\n",
            "Requirement already satisfied: python-dateutil>=2.5.0 in /usr/local/lib/python3.6/dist-packages (from pandas>=0.19.1->catboost) (2.5.3)\n",
            "Requirement already satisfied: pytz>=2011k in /usr/local/lib/python3.6/dist-packages (from pandas>=0.19.1->catboost) (2018.9)\n",
            "Installing collected packages: catboost\n",
            "Successfully installed catboost-0.14.2\n"
          ],
          "name": "stdout"
        }
      ]
    },
    {
      "metadata": {
        "id": "FLA6qeu_fuU4",
        "colab_type": "code",
        "outputId": "d582176b-3a8a-419a-d4f2-9df4c1d6d00b",
        "colab": {
          "base_uri": "https://localhost:8080/",
          "height": 85
        }
      },
      "cell_type": "code",
      "source": [
        "!pip install vecstack"
      ],
      "execution_count": 0,
      "outputs": [
        {
          "output_type": "stream",
          "text": [
            "Requirement already satisfied: vecstack in /usr/local/lib/python3.6/dist-packages (0.3.0)\n",
            "Requirement already satisfied: scipy in /usr/local/lib/python3.6/dist-packages (from vecstack) (1.2.1)\n",
            "Requirement already satisfied: numpy in /usr/local/lib/python3.6/dist-packages (from vecstack) (1.16.2)\n",
            "Requirement already satisfied: scikit-learn>=0.18 in /usr/local/lib/python3.6/dist-packages (from vecstack) (0.20.3)\n"
          ],
          "name": "stdout"
        }
      ]
    },
    {
      "metadata": {
        "id": "cPXT9JQT0uQF",
        "colab_type": "code",
        "outputId": "7c4b62b5-78af-4132-a8ac-3f9deb4b28e3",
        "colab": {
          "base_uri": "https://localhost:8080/",
          "height": 34
        }
      },
      "cell_type": "code",
      "source": [
        "import re # regex\n",
        "import numpy as np # linear algebra\n",
        "import pandas as pd # data processing, CSV file I/O (e.g. pd.read_csv)\n",
        "\n",
        "import matplotlib.pyplot as plt\n",
        "import seaborn as sns\n",
        "%matplotlib inline\n",
        "from IPython.display import HTML, display, clear_output\n",
        "import time\n",
        "\n",
        "\n",
        "import warnings\n",
        "warnings.filterwarnings('ignore')\n",
        "warnings.simplefilter(action='ignore', category=FutureWarning)\n",
        "\n",
        "\n",
        "from sklearn.model_selection import train_test_split, KFold, StratifiedKFold, cross_val_score\n",
        "from sklearn.feature_selection import RFE, RFECV,VarianceThreshold,chi2\n",
        "from sklearn.preprocessing import LabelEncoder, OneHotEncoder, StandardScaler, MinMaxScaler,Normalizer \n",
        "from sklearn.metrics import roc_auc_score, classification_report\n",
        "from sklearn.linear_model import LogisticRegression\n",
        "from sklearn.ensemble import RandomForestClassifier, GradientBoostingClassifier\n",
        "from sklearn.neural_network import MLPClassifier\n",
        "# Creating a Random Grid\n",
        "\n",
        "from vecstack import stacking\n",
        "from sklearn.model_selection import RandomizedSearchCV\n",
        "from pprint import pprint\n",
        "\n",
        "import lightgbm as lgb\n",
        "import xgboost as xgb\n",
        "import catboost\n",
        "from catboost import Pool, CatBoostClassifier,cv\n",
        "from xgboost import XGBClassifier\n",
        "\n",
        "import plotly.plotly as py\n",
        "import plotly.graph_objs as go\n",
        "from plotly.tools import FigureFactory as FF\n",
        "import scipy\n",
        "\n",
        "import statsmodels\n",
        "import statsmodels.api as sm\n",
        "from statsmodels.formula.api import ols,Logit\n",
        "\n",
        "from datetime import datetime\n",
        "import os\n",
        "print(os.listdir(\"/content/\"))"
      ],
      "execution_count": 0,
      "outputs": [
        {
          "output_type": "stream",
          "text": [
            "['.config', 'adc.json', 'train.csv', 'sample_submission.csv', 'test.csv', 'sample_data']\n"
          ],
          "name": "stdout"
        }
      ]
    },
    {
      "metadata": {
        "id": "8__1knH4FQHD",
        "colab_type": "code",
        "outputId": "d25d7dbb-4ce1-45a6-94e2-d37c78c1f3e8",
        "colab": {
          "base_uri": "https://localhost:8080/",
          "height": 51
        }
      },
      "cell_type": "code",
      "source": [
        "%%time\n",
        "train = pd.read_csv(\"/content/train.csv\",parse_dates=['Date.of.Birth','DisbursalDate'])\n",
        "test = pd.read_csv(\"/content/test.csv\",parse_dates=['Date.of.Birth','DisbursalDate'])\n",
        "sub = pd.read_csv(\"/content/sample_submission.csv\")"
      ],
      "execution_count": 0,
      "outputs": [
        {
          "output_type": "stream",
          "text": [
            "CPU times: user 1min 16s, sys: 112 ms, total: 1min 16s\n",
            "Wall time: 1min 16s\n"
          ],
          "name": "stdout"
        }
      ]
    },
    {
      "metadata": {
        "id": "rwxvX_KkGHeX",
        "colab_type": "code",
        "outputId": "031745f7-2df0-4511-a1fb-bd8728aac624",
        "colab": {
          "base_uri": "https://localhost:8080/",
          "height": 34
        }
      },
      "cell_type": "code",
      "source": [
        "train.shape, test.shape, sub.shape"
      ],
      "execution_count": 0,
      "outputs": [
        {
          "output_type": "execute_result",
          "data": {
            "text/plain": [
              "((233154, 41), (112392, 40), (112392, 2))"
            ]
          },
          "metadata": {
            "tags": []
          },
          "execution_count": 11
        }
      ]
    },
    {
      "metadata": {
        "id": "ACjIX7BPDaBV",
        "colab_type": "code",
        "outputId": "797f5465-3975-4a5e-b3f9-fb683430d2e6",
        "colab": {
          "base_uri": "https://localhost:8080/",
          "height": 34
        }
      },
      "cell_type": "code",
      "source": [
        "print('Loan default rate in first EMI is:', format(train.loan_default.sum()/train.shape[0]))"
      ],
      "execution_count": 0,
      "outputs": [
        {
          "output_type": "stream",
          "text": [
            "Loan default rate in first EMI is: 0.2170711203753742\n"
          ],
          "name": "stdout"
        }
      ]
    },
    {
      "metadata": {
        "id": "C5xGMFnVctxr",
        "colab_type": "code",
        "outputId": "8df3e4cf-de9d-4af0-b3b9-83da4db79b8c",
        "colab": {
          "base_uri": "https://localhost:8080/",
          "height": 253
        }
      },
      "cell_type": "code",
      "source": [
        "train.head()"
      ],
      "execution_count": 0,
      "outputs": [
        {
          "output_type": "execute_result",
          "data": {
            "text/html": [
              "<div>\n",
              "<style scoped>\n",
              "    .dataframe tbody tr th:only-of-type {\n",
              "        vertical-align: middle;\n",
              "    }\n",
              "\n",
              "    .dataframe tbody tr th {\n",
              "        vertical-align: top;\n",
              "    }\n",
              "\n",
              "    .dataframe thead th {\n",
              "        text-align: right;\n",
              "    }\n",
              "</style>\n",
              "<table border=\"1\" class=\"dataframe\">\n",
              "  <thead>\n",
              "    <tr style=\"text-align: right;\">\n",
              "      <th></th>\n",
              "      <th>UniqueID</th>\n",
              "      <th>disbursed_amount</th>\n",
              "      <th>asset_cost</th>\n",
              "      <th>ltv</th>\n",
              "      <th>branch_id</th>\n",
              "      <th>supplier_id</th>\n",
              "      <th>manufacturer_id</th>\n",
              "      <th>Current_pincode_ID</th>\n",
              "      <th>Date.of.Birth</th>\n",
              "      <th>Employment.Type</th>\n",
              "      <th>...</th>\n",
              "      <th>SEC.SANCTIONED.AMOUNT</th>\n",
              "      <th>SEC.DISBURSED.AMOUNT</th>\n",
              "      <th>PRIMARY.INSTAL.AMT</th>\n",
              "      <th>SEC.INSTAL.AMT</th>\n",
              "      <th>NEW.ACCTS.IN.LAST.SIX.MONTHS</th>\n",
              "      <th>DELINQUENT.ACCTS.IN.LAST.SIX.MONTHS</th>\n",
              "      <th>AVERAGE.ACCT.AGE</th>\n",
              "      <th>CREDIT.HISTORY.LENGTH</th>\n",
              "      <th>NO.OF_INQUIRIES</th>\n",
              "      <th>loan_default</th>\n",
              "    </tr>\n",
              "  </thead>\n",
              "  <tbody>\n",
              "    <tr>\n",
              "      <th>0</th>\n",
              "      <td>420825</td>\n",
              "      <td>50578</td>\n",
              "      <td>58400</td>\n",
              "      <td>89.55</td>\n",
              "      <td>67</td>\n",
              "      <td>22807</td>\n",
              "      <td>45</td>\n",
              "      <td>1441</td>\n",
              "      <td>1984-01-01</td>\n",
              "      <td>Salaried</td>\n",
              "      <td>...</td>\n",
              "      <td>0</td>\n",
              "      <td>0</td>\n",
              "      <td>0</td>\n",
              "      <td>0</td>\n",
              "      <td>0</td>\n",
              "      <td>0</td>\n",
              "      <td>0yrs 0mon</td>\n",
              "      <td>0yrs 0mon</td>\n",
              "      <td>0</td>\n",
              "      <td>0</td>\n",
              "    </tr>\n",
              "    <tr>\n",
              "      <th>1</th>\n",
              "      <td>537409</td>\n",
              "      <td>47145</td>\n",
              "      <td>65550</td>\n",
              "      <td>73.23</td>\n",
              "      <td>67</td>\n",
              "      <td>22807</td>\n",
              "      <td>45</td>\n",
              "      <td>1502</td>\n",
              "      <td>1985-07-31</td>\n",
              "      <td>Self employed</td>\n",
              "      <td>...</td>\n",
              "      <td>0</td>\n",
              "      <td>0</td>\n",
              "      <td>1991</td>\n",
              "      <td>0</td>\n",
              "      <td>0</td>\n",
              "      <td>1</td>\n",
              "      <td>1yrs 11mon</td>\n",
              "      <td>1yrs 11mon</td>\n",
              "      <td>0</td>\n",
              "      <td>1</td>\n",
              "    </tr>\n",
              "    <tr>\n",
              "      <th>2</th>\n",
              "      <td>417566</td>\n",
              "      <td>53278</td>\n",
              "      <td>61360</td>\n",
              "      <td>89.63</td>\n",
              "      <td>67</td>\n",
              "      <td>22807</td>\n",
              "      <td>45</td>\n",
              "      <td>1497</td>\n",
              "      <td>1985-08-24</td>\n",
              "      <td>Self employed</td>\n",
              "      <td>...</td>\n",
              "      <td>0</td>\n",
              "      <td>0</td>\n",
              "      <td>0</td>\n",
              "      <td>0</td>\n",
              "      <td>0</td>\n",
              "      <td>0</td>\n",
              "      <td>0yrs 0mon</td>\n",
              "      <td>0yrs 0mon</td>\n",
              "      <td>0</td>\n",
              "      <td>0</td>\n",
              "    </tr>\n",
              "    <tr>\n",
              "      <th>3</th>\n",
              "      <td>624493</td>\n",
              "      <td>57513</td>\n",
              "      <td>66113</td>\n",
              "      <td>88.48</td>\n",
              "      <td>67</td>\n",
              "      <td>22807</td>\n",
              "      <td>45</td>\n",
              "      <td>1501</td>\n",
              "      <td>1993-12-30</td>\n",
              "      <td>Self employed</td>\n",
              "      <td>...</td>\n",
              "      <td>0</td>\n",
              "      <td>0</td>\n",
              "      <td>31</td>\n",
              "      <td>0</td>\n",
              "      <td>0</td>\n",
              "      <td>0</td>\n",
              "      <td>0yrs 8mon</td>\n",
              "      <td>1yrs 3mon</td>\n",
              "      <td>1</td>\n",
              "      <td>1</td>\n",
              "    </tr>\n",
              "    <tr>\n",
              "      <th>4</th>\n",
              "      <td>539055</td>\n",
              "      <td>52378</td>\n",
              "      <td>60300</td>\n",
              "      <td>88.39</td>\n",
              "      <td>67</td>\n",
              "      <td>22807</td>\n",
              "      <td>45</td>\n",
              "      <td>1495</td>\n",
              "      <td>1977-09-12</td>\n",
              "      <td>Self employed</td>\n",
              "      <td>...</td>\n",
              "      <td>0</td>\n",
              "      <td>0</td>\n",
              "      <td>0</td>\n",
              "      <td>0</td>\n",
              "      <td>0</td>\n",
              "      <td>0</td>\n",
              "      <td>0yrs 0mon</td>\n",
              "      <td>0yrs 0mon</td>\n",
              "      <td>1</td>\n",
              "      <td>1</td>\n",
              "    </tr>\n",
              "  </tbody>\n",
              "</table>\n",
              "<p>5 rows × 41 columns</p>\n",
              "</div>"
            ],
            "text/plain": [
              "   UniqueID  disbursed_amount  asset_cost    ltv  branch_id  supplier_id  \\\n",
              "0    420825             50578       58400  89.55         67        22807   \n",
              "1    537409             47145       65550  73.23         67        22807   \n",
              "2    417566             53278       61360  89.63         67        22807   \n",
              "3    624493             57513       66113  88.48         67        22807   \n",
              "4    539055             52378       60300  88.39         67        22807   \n",
              "\n",
              "   manufacturer_id  Current_pincode_ID Date.of.Birth Employment.Type  \\\n",
              "0               45                1441    1984-01-01        Salaried   \n",
              "1               45                1502    1985-07-31   Self employed   \n",
              "2               45                1497    1985-08-24   Self employed   \n",
              "3               45                1501    1993-12-30   Self employed   \n",
              "4               45                1495    1977-09-12   Self employed   \n",
              "\n",
              "       ...      SEC.SANCTIONED.AMOUNT  SEC.DISBURSED.AMOUNT  \\\n",
              "0      ...                          0                     0   \n",
              "1      ...                          0                     0   \n",
              "2      ...                          0                     0   \n",
              "3      ...                          0                     0   \n",
              "4      ...                          0                     0   \n",
              "\n",
              "   PRIMARY.INSTAL.AMT  SEC.INSTAL.AMT  NEW.ACCTS.IN.LAST.SIX.MONTHS  \\\n",
              "0                   0               0                             0   \n",
              "1                1991               0                             0   \n",
              "2                   0               0                             0   \n",
              "3                  31               0                             0   \n",
              "4                   0               0                             0   \n",
              "\n",
              "   DELINQUENT.ACCTS.IN.LAST.SIX.MONTHS  AVERAGE.ACCT.AGE  \\\n",
              "0                                    0         0yrs 0mon   \n",
              "1                                    1        1yrs 11mon   \n",
              "2                                    0         0yrs 0mon   \n",
              "3                                    0         0yrs 8mon   \n",
              "4                                    0         0yrs 0mon   \n",
              "\n",
              "   CREDIT.HISTORY.LENGTH  NO.OF_INQUIRIES  loan_default  \n",
              "0              0yrs 0mon                0             0  \n",
              "1             1yrs 11mon                0             1  \n",
              "2              0yrs 0mon                0             0  \n",
              "3              1yrs 3mon                1             1  \n",
              "4              0yrs 0mon                1             1  \n",
              "\n",
              "[5 rows x 41 columns]"
            ]
          },
          "metadata": {
            "tags": []
          },
          "execution_count": 13
        }
      ]
    },
    {
      "metadata": {
        "id": "EUZtpQCccyes",
        "colab_type": "code",
        "outputId": "503e371e-1212-40e3-c865-5befeb236bae",
        "colab": {
          "base_uri": "https://localhost:8080/",
          "height": 799
        }
      },
      "cell_type": "code",
      "source": [
        "train.info()"
      ],
      "execution_count": 0,
      "outputs": [
        {
          "output_type": "stream",
          "text": [
            "<class 'pandas.core.frame.DataFrame'>\n",
            "RangeIndex: 233154 entries, 0 to 233153\n",
            "Data columns (total 41 columns):\n",
            "UniqueID                               233154 non-null int64\n",
            "disbursed_amount                       233154 non-null int64\n",
            "asset_cost                             233154 non-null int64\n",
            "ltv                                    233154 non-null float64\n",
            "branch_id                              233154 non-null int64\n",
            "supplier_id                            233154 non-null int64\n",
            "manufacturer_id                        233154 non-null int64\n",
            "Current_pincode_ID                     233154 non-null int64\n",
            "Date.of.Birth                          233154 non-null datetime64[ns]\n",
            "Employment.Type                        225493 non-null object\n",
            "DisbursalDate                          233154 non-null datetime64[ns]\n",
            "State_ID                               233154 non-null int64\n",
            "Employee_code_ID                       233154 non-null int64\n",
            "MobileNo_Avl_Flag                      233154 non-null int64\n",
            "Aadhar_flag                            233154 non-null int64\n",
            "PAN_flag                               233154 non-null int64\n",
            "VoterID_flag                           233154 non-null int64\n",
            "Driving_flag                           233154 non-null int64\n",
            "Passport_flag                          233154 non-null int64\n",
            "PERFORM_CNS.SCORE                      233154 non-null int64\n",
            "PERFORM_CNS.SCORE.DESCRIPTION          233154 non-null object\n",
            "PRI.NO.OF.ACCTS                        233154 non-null int64\n",
            "PRI.ACTIVE.ACCTS                       233154 non-null int64\n",
            "PRI.OVERDUE.ACCTS                      233154 non-null int64\n",
            "PRI.CURRENT.BALANCE                    233154 non-null int64\n",
            "PRI.SANCTIONED.AMOUNT                  233154 non-null int64\n",
            "PRI.DISBURSED.AMOUNT                   233154 non-null int64\n",
            "SEC.NO.OF.ACCTS                        233154 non-null int64\n",
            "SEC.ACTIVE.ACCTS                       233154 non-null int64\n",
            "SEC.OVERDUE.ACCTS                      233154 non-null int64\n",
            "SEC.CURRENT.BALANCE                    233154 non-null int64\n",
            "SEC.SANCTIONED.AMOUNT                  233154 non-null int64\n",
            "SEC.DISBURSED.AMOUNT                   233154 non-null int64\n",
            "PRIMARY.INSTAL.AMT                     233154 non-null int64\n",
            "SEC.INSTAL.AMT                         233154 non-null int64\n",
            "NEW.ACCTS.IN.LAST.SIX.MONTHS           233154 non-null int64\n",
            "DELINQUENT.ACCTS.IN.LAST.SIX.MONTHS    233154 non-null int64\n",
            "AVERAGE.ACCT.AGE                       233154 non-null object\n",
            "CREDIT.HISTORY.LENGTH                  233154 non-null object\n",
            "NO.OF_INQUIRIES                        233154 non-null int64\n",
            "loan_default                           233154 non-null int64\n",
            "dtypes: datetime64[ns](2), float64(1), int64(34), object(4)\n",
            "memory usage: 72.9+ MB\n"
          ],
          "name": "stdout"
        }
      ]
    },
    {
      "metadata": {
        "id": "o4nMyeMSc3Hv",
        "colab_type": "code",
        "colab": {}
      },
      "cell_type": "code",
      "source": [
        "df = train.copy()"
      ],
      "execution_count": 0,
      "outputs": []
    },
    {
      "metadata": {
        "id": "FgJXY2nQc_0X",
        "colab_type": "code",
        "outputId": "bced9693-d918-43e7-ef82-aca40e40ac82",
        "colab": {
          "base_uri": "https://localhost:8080/",
          "height": 68
        }
      },
      "cell_type": "code",
      "source": [
        "df.loan_default.value_counts()"
      ],
      "execution_count": 0,
      "outputs": [
        {
          "output_type": "execute_result",
          "data": {
            "text/plain": [
              "0    182543\n",
              "1     50611\n",
              "Name: loan_default, dtype: int64"
            ]
          },
          "metadata": {
            "tags": []
          },
          "execution_count": 16
        }
      ]
    },
    {
      "metadata": {
        "id": "KpEIvGpddCeB",
        "colab_type": "code",
        "outputId": "967d9ed8-cc70-433f-86de-6c1f255970b1",
        "colab": {
          "base_uri": "https://localhost:8080/",
          "height": 301
        }
      },
      "cell_type": "code",
      "source": [
        "sns.distplot(df.disbursed_amount)"
      ],
      "execution_count": 0,
      "outputs": [
        {
          "output_type": "execute_result",
          "data": {
            "text/plain": [
              "<matplotlib.axes._subplots.AxesSubplot at 0x7f204688c940>"
            ]
          },
          "metadata": {
            "tags": []
          },
          "execution_count": 17
        },
        {
          "output_type": "display_data",
          "data": {
            "image/png": "[encoded data removed]",
            "text/plain": [
              "<Figure size 432x288 with 1 Axes>"
            ]
          },
          "metadata": {
            "tags": []
          }
        }
      ]
    },
    {
      "metadata": {
        "id": "2JKDr0GjdEA4",
        "colab_type": "code",
        "outputId": "7eb446b8-c104-4869-d133-ef1b2e5abd4a",
        "colab": {
          "base_uri": "https://localhost:8080/",
          "height": 301
        }
      },
      "cell_type": "code",
      "source": [
        "sns.boxplot(df.disbursed_amount)"
      ],
      "execution_count": 0,
      "outputs": [
        {
          "output_type": "execute_result",
          "data": {
            "text/plain": [
              "<matplotlib.axes._subplots.AxesSubplot at 0x7f203429c908>"
            ]
          },
          "metadata": {
            "tags": []
          },
          "execution_count": 18
        },
        {
          "output_type": "display_data",
          "data": {
            "image/png": "[encoded data removed]",
            "text/plain": [
              "<Figure size 432x288 with 1 Axes>"
            ]
          },
          "metadata": {
            "tags": []
          }
        }
      ]
    },
    {
      "metadata": {
        "id": "q_0Y8gZgdINB",
        "colab_type": "code",
        "colab": {}
      },
      "cell_type": "code",
      "source": [
        "## removed outliers\n",
        "df=df[df['disbursed_amount']<200000].reset_index(drop=True)"
      ],
      "execution_count": 0,
      "outputs": []
    },
    {
      "metadata": {
        "id": "ZUQdNbxEeFTT",
        "colab_type": "code",
        "outputId": "4400e205-ff6e-455d-ea01-9d5a9922b363",
        "colab": {
          "base_uri": "https://localhost:8080/",
          "height": 34
        }
      },
      "cell_type": "code",
      "source": [
        "df['Employment.Type'].unique()"
      ],
      "execution_count": 0,
      "outputs": [
        {
          "output_type": "execute_result",
          "data": {
            "text/plain": [
              "array(['Salaried', 'Self employed', nan], dtype=object)"
            ]
          },
          "metadata": {
            "tags": []
          },
          "execution_count": 20
        }
      ]
    },
    {
      "metadata": {
        "id": "aYcprWC8eSIM",
        "colab_type": "code",
        "outputId": "788b8748-adf2-4a38-a2f3-4e95e70df3f1",
        "colab": {
          "base_uri": "https://localhost:8080/",
          "height": 300
        }
      },
      "cell_type": "code",
      "source": [
        "sns.distplot(df.asset_cost)"
      ],
      "execution_count": 0,
      "outputs": [
        {
          "output_type": "execute_result",
          "data": {
            "text/plain": [
              "<matplotlib.axes._subplots.AxesSubplot at 0x7f20345f4a20>"
            ]
          },
          "metadata": {
            "tags": []
          },
          "execution_count": 21
        },
        {
          "output_type": "display_data",
          "data": {
            "image/png": "[encoded data removed]",
            "text/plain": [
              "<Figure size 432x288 with 1 Axes>"
            ]
          },
          "metadata": {
            "tags": []
          }
        }
      ]
    },
    {
      "metadata": {
        "id": "-KFMRqJueXM2",
        "colab_type": "code",
        "outputId": "a6b1dbec-b1e3-44aa-f302-a1b929ffadcd",
        "colab": {
          "base_uri": "https://localhost:8080/",
          "height": 301
        }
      },
      "cell_type": "code",
      "source": [
        "sns.scatterplot(y=df.asset_cost, x=df.disbursed_amount,hue=df.loan_default)"
      ],
      "execution_count": 0,
      "outputs": [
        {
          "output_type": "execute_result",
          "data": {
            "text/plain": [
              "<matplotlib.axes._subplots.AxesSubplot at 0x7f203467ccf8>"
            ]
          },
          "metadata": {
            "tags": []
          },
          "execution_count": 22
        },
        {
          "output_type": "display_data",
          "data": {
            "image/png": "[encoded data removed]",
            "text/plain": [
              "<Figure size 432x288 with 1 Axes>"
            ]
          },
          "metadata": {
            "tags": []
          }
        }
      ]
    },
    {
      "metadata": {
        "id": "d1JE-0MVeZMw",
        "colab_type": "code",
        "outputId": "d8abb0b3-24d8-46ef-a4e1-feffe3424281",
        "colab": {
          "base_uri": "https://localhost:8080/",
          "height": 300
        }
      },
      "cell_type": "code",
      "source": [
        "sns.distplot(df.ltv)"
      ],
      "execution_count": 0,
      "outputs": [
        {
          "output_type": "execute_result",
          "data": {
            "text/plain": [
              "<matplotlib.axes._subplots.AxesSubplot at 0x7f20346d9860>"
            ]
          },
          "metadata": {
            "tags": []
          },
          "execution_count": 23
        },
        {
          "output_type": "display_data",
          "data": {
            "image/png": "[encoded data removed]",
            "text/plain": [
              "<Figure size 432x288 with 1 Axes>"
            ]
          },
          "metadata": {
            "tags": []
          }
        }
      ]
    },
    {
      "metadata": {
        "id": "5WTqX-4Eell-",
        "colab_type": "code",
        "outputId": "74399736-44c5-4885-d6f8-e816205b6fab",
        "colab": {
          "base_uri": "https://localhost:8080/",
          "height": 310
        }
      },
      "cell_type": "code",
      "source": [
        "ct=pd.crosstab(df.branch_id, df.loan_default)\n",
        "ct.div(ct.sum(1).astype(float), axis=0).plot(kind=\"bar\", stacked=True, figsize=(17,4))"
      ],
      "execution_count": 0,
      "outputs": [
        {
          "output_type": "execute_result",
          "data": {
            "text/plain": [
              "<matplotlib.axes._subplots.AxesSubplot at 0x7f20345ae5f8>"
            ]
          },
          "metadata": {
            "tags": []
          },
          "execution_count": 24
        },
        {
          "output_type": "display_data",
          "data": {
            "image/png": "[encoded data removed]",
            "text/plain": [
              "<Figure size 1224x288 with 1 Axes>"
            ]
          },
          "metadata": {
            "tags": []
          }
        }
      ]
    },
    {
      "metadata": {
        "id": "mMU6i8FAeqiv",
        "colab_type": "code",
        "outputId": "7243f852-58c2-4af2-83ea-05d0e43b5d69",
        "colab": {
          "base_uri": "https://localhost:8080/",
          "height": 34
        }
      },
      "cell_type": "code",
      "source": [
        "df.supplier_id.nunique()"
      ],
      "execution_count": 0,
      "outputs": [
        {
          "output_type": "execute_result",
          "data": {
            "text/plain": [
              "2952"
            ]
          },
          "metadata": {
            "tags": []
          },
          "execution_count": 25
        }
      ]
    },
    {
      "metadata": {
        "id": "KyeVfLt0exIc",
        "colab_type": "code",
        "outputId": "8d52f10e-a5fd-4f76-a148-cd2b84dd5da7",
        "colab": {
          "base_uri": "https://localhost:8080/",
          "height": 34
        }
      },
      "cell_type": "code",
      "source": [
        "df.manufacturer_id.nunique()"
      ],
      "execution_count": 0,
      "outputs": [
        {
          "output_type": "execute_result",
          "data": {
            "text/plain": [
              "10"
            ]
          },
          "metadata": {
            "tags": []
          },
          "execution_count": 26
        }
      ]
    },
    {
      "metadata": {
        "id": "vPLNxQ9eezGF",
        "colab_type": "code",
        "outputId": "6372a4e8-0350-4e2f-d8f2-b98828675a2c",
        "colab": {
          "base_uri": "https://localhost:8080/",
          "height": 514
        }
      },
      "cell_type": "code",
      "source": [
        "ct=pd.crosstab(df.manufacturer_id, df.loan_default)\n",
        "ct.div(ct.sum(1).astype(float), axis=0).plot(kind=\"bar\", stacked=True, figsize=(17,4))\n",
        "from scipy import stats\n",
        "stats.chi2_contingency(ct)"
      ],
      "execution_count": 0,
      "outputs": [
        {
          "output_type": "execute_result",
          "data": {
            "text/plain": [
              "(463.02843043903846,\n",
              " 4.6948116493874514e-94,\n",
              " 9,\n",
              " array([[4.43337617e+04, 1.22922383e+04],\n",
              "        [1.30826327e+04, 3.62736733e+03],\n",
              "        [8.00068362e+03, 2.21831638e+03],\n",
              "        [2.12986199e+04, 5.90538006e+03],\n",
              "        [1.88292828e+03, 5.22071719e+02],\n",
              "        [8.57566180e+04, 2.37773820e+04],\n",
              "        [7.56146417e+03, 2.09653583e+03],\n",
              "        [6.09113598e+02, 1.68886402e+02],\n",
              "        [7.82922362e-01, 2.17077638e-01],\n",
              "        [9.39506835e+00, 2.60493165e+00]]))"
            ]
          },
          "metadata": {
            "tags": []
          },
          "execution_count": 27
        },
        {
          "output_type": "display_data",
          "data": {
            "image/png": "[encoded data removed]",
            "text/plain": [
              "<Figure size 1224x288 with 1 Axes>"
            ]
          },
          "metadata": {
            "tags": []
          }
        }
      ]
    },
    {
      "metadata": {
        "id": "y1qjqUjbe2EU",
        "colab_type": "code",
        "outputId": "9a8647b8-270c-414b-d600-d72cac2b420d",
        "colab": {
          "base_uri": "https://localhost:8080/",
          "height": 365
        }
      },
      "cell_type": "code",
      "source": [
        "ct=pd.crosstab(df.Aadhar_flag, df.loan_default)\n",
        "ct.div(ct.sum(1).astype(float), axis=0).plot(kind=\"bar\", stacked=True, figsize=(17,4))\n",
        "from scipy import stats\n",
        "stats.chi2_contingency(ct)"
      ],
      "execution_count": 0,
      "outputs": [
        {
          "output_type": "execute_result",
          "data": {
            "text/plain": [
              "(402.9347894941585,\n",
              " 1.2649508029241105e-89,\n",
              " 1,\n",
              " array([[ 29148.19954792,   8081.80045208],\n",
              "        [153387.80045208,  42529.19954792]]))"
            ]
          },
          "metadata": {
            "tags": []
          },
          "execution_count": 28
        },
        {
          "output_type": "display_data",
          "data": {
            "image/png": "[encoded data removed]",
            "text/plain": [
              "<Figure size 1224x288 with 1 Axes>"
            ]
          },
          "metadata": {
            "tags": []
          }
        }
      ]
    },
    {
      "metadata": {
        "id": "GbpjLHKsfE5A",
        "colab_type": "code",
        "outputId": "bd3dc8cf-eb84-4b90-addb-10ae9f9b7a29",
        "colab": {
          "base_uri": "https://localhost:8080/",
          "height": 365
        }
      },
      "cell_type": "code",
      "source": [
        "ct=pd.crosstab(df.PAN_flag, df.loan_default)\n",
        "ct.div(ct.sum(1).astype(float), axis=0).plot(kind=\"bar\", stacked=True, figsize=(17,4))\n",
        "from scipy import stats\n",
        "stats.chi2_contingency(ct)"
      ],
      "execution_count": 0,
      "outputs": [
        {
          "output_type": "execute_result",
          "data": {
            "text/plain": [
              "(1.00265262619473,\n",
              " 0.31666950015785755,\n",
              " 1,\n",
              " array([[168744.82258832,  46787.17741168],\n",
              "        [ 13791.17741168,   3823.82258832]]))"
            ]
          },
          "metadata": {
            "tags": []
          },
          "execution_count": 29
        },
        {
          "output_type": "display_data",
          "data": {
            "image/png": "[encoded data removed]",
            "text/plain": [
              "<Figure size 1224x288 with 1 Axes>"
            ]
          },
          "metadata": {
            "tags": []
          }
        }
      ]
    },
    {
      "metadata": {
        "id": "0ktU_KjrfL4k",
        "colab_type": "code",
        "outputId": "e270aa5e-b73c-4718-b1c4-1645aab03aa2",
        "colab": {
          "base_uri": "https://localhost:8080/",
          "height": 365
        }
      },
      "cell_type": "code",
      "source": [
        "ct=pd.crosstab(df.VoterID_flag, df.loan_default)\n",
        "ct.div(ct.sum(1).astype(float), axis=0).plot(kind=\"bar\", stacked=True, figsize=(17,4))\n",
        "from scipy import stats\n",
        "stats.chi2_contingency(ct)"
      ],
      "execution_count": 0,
      "outputs": [
        {
          "output_type": "execute_result",
          "data": {
            "text/plain": [
              "(445.7687139225628,\n",
              " 6.011323264115359e-99,\n",
              " 1,\n",
              " array([[156077.92168889,  43275.07831111],\n",
              "        [ 26458.07831111,   7335.92168889]]))"
            ]
          },
          "metadata": {
            "tags": []
          },
          "execution_count": 30
        },
        {
          "output_type": "display_data",
          "data": {
            "image/png": "[encoded data removed]",
            "text/plain": [
              "<Figure size 1224x288 with 1 Axes>"
            ]
          },
          "metadata": {
            "tags": []
          }
        }
      ]
    },
    {
      "metadata": {
        "id": "4GqgPrllfniK",
        "colab_type": "code",
        "outputId": "cbc5853a-b72d-4934-f70a-90eda91d519a",
        "colab": {
          "base_uri": "https://localhost:8080/",
          "height": 365
        }
      },
      "cell_type": "code",
      "source": [
        "ct=pd.crosstab(df.Driving_flag, df.loan_default)\n",
        "ct.div(ct.sum(1).astype(float), axis=0).plot(kind=\"bar\", stacked=True, figsize=(17,4))\n",
        "from scipy import stats\n",
        "stats.chi2_contingency(ct)"
      ],
      "execution_count": 0,
      "outputs": [
        {
          "output_type": "execute_result",
          "data": {
            "text/plain": [
              "(7.81450600180469,\n",
              " 0.005182851325497511,\n",
              " 1,\n",
              " array([[178293.34371877,  49434.65628123],\n",
              "        [  4242.65628123,   1176.34371877]]))"
            ]
          },
          "metadata": {
            "tags": []
          },
          "execution_count": 31
        },
        {
          "output_type": "display_data",
          "data": {
            "image/png": "[encoded data removed]",
            "text/plain": [
              "<Figure size 1224x288 with 1 Axes>"
            ]
          },
          "metadata": {
            "tags": []
          }
        }
      ]
    },
    {
      "metadata": {
        "id": "MOUxR4x5frDd",
        "colab_type": "code",
        "outputId": "5299a68f-663b-4798-808d-0095b765698d",
        "colab": {
          "base_uri": "https://localhost:8080/",
          "height": 365
        }
      },
      "cell_type": "code",
      "source": [
        "ct=pd.crosstab(df.Passport_flag, df.loan_default)\n",
        "ct.div(ct.sum(1).astype(float), axis=0).plot(kind=\"bar\", stacked=True, figsize=(17,4))\n",
        "from scipy import stats\n",
        "stats.chi2_contingency(ct)"
      ],
      "execution_count": 0,
      "outputs": [
        {
          "output_type": "execute_result",
          "data": {
            "text/plain": [
              "(13.080179391070391,\n",
              " 0.00029843687220371747,\n",
              " 1,\n",
              " array([[1.82147671e+05, 5.05033295e+04],\n",
              "        [3.88329492e+02, 1.07670508e+02]]))"
            ]
          },
          "metadata": {
            "tags": []
          },
          "execution_count": 32
        },
        {
          "output_type": "display_data",
          "data": {
            "image/png": "[encoded data removed]",
            "text/plain": [
              "<Figure size 1224x288 with 1 Axes>"
            ]
          },
          "metadata": {
            "tags": []
          }
        }
      ]
    },
    {
      "metadata": {
        "id": "KTZT3AS3ftb7",
        "colab_type": "code",
        "outputId": "30100866-b414-47db-c853-88e60804f055",
        "colab": {
          "base_uri": "https://localhost:8080/",
          "height": 301
        }
      },
      "cell_type": "code",
      "source": [
        "sns.countplot(x=df.manufacturer_id)"
      ],
      "execution_count": 0,
      "outputs": [
        {
          "output_type": "execute_result",
          "data": {
            "text/plain": [
              "<matplotlib.axes._subplots.AxesSubplot at 0x7f2030e649b0>"
            ]
          },
          "metadata": {
            "tags": []
          },
          "execution_count": 33
        },
        {
          "output_type": "display_data",
          "data": {
            "image/png": "[encoded data removed]",
            "text/plain": [
              "<Figure size 432x288 with 1 Axes>"
            ]
          },
          "metadata": {
            "tags": []
          }
        }
      ]
    },
    {
      "metadata": {
        "id": "2sarTMhWfwO1",
        "colab_type": "code",
        "outputId": "59990ced-4561-4391-c227-5a47a35dff3b",
        "colab": {
          "base_uri": "https://localhost:8080/",
          "height": 301
        }
      },
      "cell_type": "code",
      "source": [
        "sns.countplot(x=df.Aadhar_flag)"
      ],
      "execution_count": 0,
      "outputs": [
        {
          "output_type": "execute_result",
          "data": {
            "text/plain": [
              "<matplotlib.axes._subplots.AxesSubplot at 0x7f2034836d30>"
            ]
          },
          "metadata": {
            "tags": []
          },
          "execution_count": 34
        },
        {
          "output_type": "display_data",
          "data": {
            "image/png": "[encoded data removed]",
            "text/plain": [
              "<Figure size 432x288 with 1 Axes>"
            ]
          },
          "metadata": {
            "tags": []
          }
        }
      ]
    },
    {
      "metadata": {
        "id": "W0i2usN3gAXO",
        "colab_type": "code",
        "outputId": "90bae9db-ae3a-478c-d0ac-71cfcc7bd1a4",
        "colab": {
          "base_uri": "https://localhost:8080/",
          "height": 301
        }
      },
      "cell_type": "code",
      "source": [
        "sns.distplot(df[df['loan_default']==1]['PERFORM_CNS.SCORE'])\n",
        "sns.distplot(df[df['loan_default']==0]['PERFORM_CNS.SCORE'])"
      ],
      "execution_count": 0,
      "outputs": [
        {
          "output_type": "execute_result",
          "data": {
            "text/plain": [
              "<matplotlib.axes._subplots.AxesSubplot at 0x7f2030b4f438>"
            ]
          },
          "metadata": {
            "tags": []
          },
          "execution_count": 35
        },
        {
          "output_type": "display_data",
          "data": {
            "image/png": "[encoded data removed]",
            "text/plain": [
              "<Figure size 432x288 with 1 Axes>"
            ]
          },
          "metadata": {
            "tags": []
          }
        }
      ]
    },
    {
      "metadata": {
        "id": "E4VWGAuugC08",
        "colab_type": "code",
        "outputId": "dfab7a3b-4173-42f0-c575-abc76a965307",
        "colab": {
          "base_uri": "https://localhost:8080/",
          "height": 374
        }
      },
      "cell_type": "code",
      "source": [
        "df['PERFORM_CNS.SCORE.DESCRIPTION'].value_counts()"
      ],
      "execution_count": 0,
      "outputs": [
        {
          "output_type": "execute_result",
          "data": {
            "text/plain": [
              "No Bureau History Available                                116949\n",
              "C-Very Low Risk                                             16045\n",
              "A-Very Low Risk                                             14124\n",
              "D-Very Low Risk                                             11358\n",
              "B-Very Low Risk                                              9199\n",
              "M-Very High Risk                                             8776\n",
              "F-Low Risk                                                   8484\n",
              "K-High Risk                                                  8277\n",
              "H-Medium Risk                                                6855\n",
              "E-Low Risk                                                   5821\n",
              "I-Medium Risk                                                5557\n",
              "G-Low Risk                                                   3987\n",
              "Not Scored: Sufficient History Not Available                 3765\n",
              "J-High Risk                                                  3747\n",
              "Not Scored: Not Enough Info available on the customer        3672\n",
              "Not Scored: No Activity seen on the customer (Inactive)      2884\n",
              "Not Scored: No Updates available in last 36 months           1534\n",
              "L-Very High Risk                                             1134\n",
              "Not Scored: Only a Guarantor                                  976\n",
              "Not Scored: More than 50 active Accounts found                  3\n",
              "Name: PERFORM_CNS.SCORE.DESCRIPTION, dtype: int64"
            ]
          },
          "metadata": {
            "tags": []
          },
          "execution_count": 36
        }
      ]
    },
    {
      "metadata": {
        "id": "da078cK8gNd1",
        "colab_type": "code",
        "outputId": "4968cf28-83a2-41a9-c60a-a5afcb2627e2",
        "colab": {
          "base_uri": "https://localhost:8080/",
          "height": 892
        }
      },
      "cell_type": "code",
      "source": [
        "ct=pd.crosstab(df['PERFORM_CNS.SCORE.DESCRIPTION'], df.loan_default)\n",
        "ct.div(ct.sum(1).astype(float), axis=0).plot(kind=\"bar\", stacked=True, figsize=(17,4))\n",
        "from scipy import stats\n",
        "stats.chi2_contingency(ct)"
      ],
      "execution_count": 0,
      "outputs": [
        {
          "output_type": "execute_result",
          "data": {
            "text/plain": [
              "(2191.893143590023, 0.0, 19, array([[1.10579954e+04, 3.06600456e+03],\n",
              "        [7.20210281e+03, 1.99689719e+03],\n",
              "        [1.25619893e+04, 3.48301070e+03],\n",
              "        [8.89243219e+03, 2.46556781e+03],\n",
              "        [4.55739107e+03, 1.26360893e+03],\n",
              "        [6.64231332e+03, 1.84168668e+03],\n",
              "        [3.12151146e+03, 8.65488542e+02],\n",
              "        [5.36693279e+03, 1.48806721e+03],\n",
              "        [4.35069957e+03, 1.20630043e+03],\n",
              "        [2.93361009e+03, 8.13389909e+02],\n",
              "        [6.48024839e+03, 1.79675161e+03],\n",
              "        [8.87833959e+02, 2.46166041e+02],\n",
              "        [6.87092665e+03, 1.90507335e+03],\n",
              "        [9.15619873e+04, 2.53870127e+04],\n",
              "        [2.34876709e+00, 6.51232913e-01],\n",
              "        [2.25794809e+03, 6.26051907e+02],\n",
              "        [1.20100290e+03, 3.32997096e+02],\n",
              "        [2.87489091e+03, 7.97109086e+02],\n",
              "        [7.64132226e+02, 2.11867774e+02],\n",
              "        [2.94770269e+03, 8.17297306e+02]]))"
            ]
          },
          "metadata": {
            "tags": []
          },
          "execution_count": 37
        },
        {
          "output_type": "display_data",
          "data": {
            "image/png": "[encoded data removed]",
            "text/plain": [
              "<Figure size 1224x288 with 1 Axes>"
            ]
          },
          "metadata": {
            "tags": []
          }
        }
      ]
    },
    {
      "metadata": {
        "id": "WP0xdPomgQT2",
        "colab_type": "code",
        "outputId": "afbc496b-b014-4dac-c987-faa94ed7e7f9",
        "colab": {
          "base_uri": "https://localhost:8080/",
          "height": 300
        }
      },
      "cell_type": "code",
      "source": [
        "sns.distplot(df['PRI.NO.OF.ACCTS'])"
      ],
      "execution_count": 0,
      "outputs": [
        {
          "output_type": "execute_result",
          "data": {
            "text/plain": [
              "<matplotlib.axes._subplots.AxesSubplot at 0x7f2030b4f048>"
            ]
          },
          "metadata": {
            "tags": []
          },
          "execution_count": 38
        },
        {
          "output_type": "display_data",
          "data": {
            "image/png": "[encoded data removed]",
            "text/plain": [
              "<Figure size 432x288 with 1 Axes>"
            ]
          },
          "metadata": {
            "tags": []
          }
        }
      ]
    },
    {
      "metadata": {
        "id": "o0Y6oJalgfHm",
        "colab_type": "code",
        "outputId": "af954ab5-a930-4891-8efd-8a6dd28b16dc",
        "colab": {
          "base_uri": "https://localhost:8080/",
          "height": 300
        }
      },
      "cell_type": "code",
      "source": [
        "sns.distplot(df[df['loan_default']==1]['PRI.ACTIVE.ACCTS'])\n",
        "# sns.distplot(df[df['loan_default']==0]['PRI.ACTIVE.ACCTS'])"
      ],
      "execution_count": 0,
      "outputs": [
        {
          "output_type": "execute_result",
          "data": {
            "text/plain": [
              "<matplotlib.axes._subplots.AxesSubplot at 0x7f203004b278>"
            ]
          },
          "metadata": {
            "tags": []
          },
          "execution_count": 39
        },
        {
          "output_type": "display_data",
          "data": {
            "image/png": "[encoded data removed]",
            "text/plain": [
              "<Figure size 432x288 with 1 Axes>"
            ]
          },
          "metadata": {
            "tags": []
          }
        }
      ]
    },
    {
      "metadata": {
        "id": "8-hbsahWghIJ",
        "colab_type": "code",
        "outputId": "0754f499-c902-4f0f-c2a8-c952142a88af",
        "colab": {
          "base_uri": "https://localhost:8080/",
          "height": 463
        }
      },
      "cell_type": "code",
      "source": [
        "plt.subplots(figsize=(17,7))\n",
        "sns.scatterplot(x=df['PRI.NO.OF.ACCTS'] , y = df['PRI.ACTIVE.ACCTS'],hue=df.loan_default)"
      ],
      "execution_count": 0,
      "outputs": [
        {
          "output_type": "execute_result",
          "data": {
            "text/plain": [
              "<matplotlib.axes._subplots.AxesSubplot at 0x7f203000ccc0>"
            ]
          },
          "metadata": {
            "tags": []
          },
          "execution_count": 40
        },
        {
          "output_type": "display_data",
          "data": {
            "image/png": "[encoded data removed]",
            "text/plain": [
              "<Figure size 1224x504 with 1 Axes>"
            ]
          },
          "metadata": {
            "tags": []
          }
        }
      ]
    },
    {
      "metadata": {
        "id": "CcfqvZgRgnu2",
        "colab_type": "code",
        "outputId": "00e0bc05-eb02-4f1c-90fe-a8c46b6c2f15",
        "colab": {
          "base_uri": "https://localhost:8080/",
          "height": 307
        }
      },
      "cell_type": "code",
      "source": [
        "sns.distplot(df[df['PRI.CURRENT.BALANCE']>0]['PRI.CURRENT.BALANCE'])"
      ],
      "execution_count": 0,
      "outputs": [
        {
          "output_type": "execute_result",
          "data": {
            "text/plain": [
              "<matplotlib.axes._subplots.AxesSubplot at 0x7f202fea32e8>"
            ]
          },
          "metadata": {
            "tags": []
          },
          "execution_count": 41
        },
        {
          "output_type": "display_data",
          "data": {
            "image/png": "[encoded data removed]",
            "text/plain": [
              "<Figure size 432x288 with 1 Axes>"
            ]
          },
          "metadata": {
            "tags": []
          }
        }
      ]
    },
    {
      "metadata": {
        "id": "MtFgT5TUgy8I",
        "colab_type": "code",
        "outputId": "7c823dfc-6a0c-45ff-b547-344c264eec89",
        "colab": {
          "base_uri": "https://localhost:8080/",
          "height": 300
        }
      },
      "cell_type": "code",
      "source": [
        "sns.scatterplot(x=df['PRIMARY.INSTAL.AMT'],  y=df['SEC.INSTAL.AMT'],hue=df['loan_default'])"
      ],
      "execution_count": 0,
      "outputs": [
        {
          "output_type": "execute_result",
          "data": {
            "text/plain": [
              "<matplotlib.axes._subplots.AxesSubplot at 0x7f202fee1668>"
            ]
          },
          "metadata": {
            "tags": []
          },
          "execution_count": 42
        },
        {
          "output_type": "display_data",
          "data": {
            "image/png": "[encoded data removed]",
            "text/plain": [
              "<Figure size 432x288 with 1 Axes>"
            ]
          },
          "metadata": {
            "tags": []
          }
        }
      ]
    },
    {
      "metadata": {
        "id": "Dz4frjN6g34K",
        "colab_type": "code",
        "outputId": "28d51c0a-5afb-4431-9eb9-070be3d3223a",
        "colab": {
          "base_uri": "https://localhost:8080/",
          "height": 300
        }
      },
      "cell_type": "code",
      "source": [
        "sns.countplot(df[df['DELINQUENT.ACCTS.IN.LAST.SIX.MONTHS']>2]['DELINQUENT.ACCTS.IN.LAST.SIX.MONTHS'],hue=df.loan_default)"
      ],
      "execution_count": 0,
      "outputs": [
        {
          "output_type": "execute_result",
          "data": {
            "text/plain": [
              "<matplotlib.axes._subplots.AxesSubplot at 0x7f202fdceb00>"
            ]
          },
          "metadata": {
            "tags": []
          },
          "execution_count": 43
        },
        {
          "output_type": "display_data",
          "data": {
            "image/png": "[encoded data removed]",
            "text/plain": [
              "<Figure size 432x288 with 1 Axes>"
            ]
          },
          "metadata": {
            "tags": []
          }
        }
      ]
    },
    {
      "metadata": {
        "id": "Oy3Rlr9lrVBE",
        "colab_type": "code",
        "colab": {}
      },
      "cell_type": "code",
      "source": [
        "train.drop(index = [48879,85588,134575], axis=0, inplace= True)\n",
        "train.reset_index(inplace= True)\n",
        "train.drop('index', axis= 1, inplace = True)"
      ],
      "execution_count": 0,
      "outputs": []
    },
    {
      "metadata": {
        "id": "eXmA-R6FeMbR",
        "colab_type": "code",
        "colab": {}
      },
      "cell_type": "code",
      "source": [
        "train=train[train['disbursed_amount']<200000].reset_index(drop=True)"
      ],
      "execution_count": 0,
      "outputs": []
    },
    {
      "metadata": {
        "id": "Amy1AcAlraZq",
        "colab_type": "code",
        "colab": {}
      },
      "cell_type": "code",
      "source": [
        "## There is missing value in only one column which is employment type we will impute this information\n",
        "train['Employment.Type'].fillna('Others',inplace = True)\n",
        "test['Employment.Type'].fillna('Others',inplace = True)"
      ],
      "execution_count": 0,
      "outputs": []
    },
    {
      "metadata": {
        "id": "5uTIuAfxrd_7",
        "colab_type": "code",
        "outputId": "c0fe2867-05f8-47f3-97b3-d5f1baf0eb37",
        "colab": {
          "base_uri": "https://localhost:8080/",
          "height": 255
        }
      },
      "cell_type": "code",
      "source": [
        "train.columns"
      ],
      "execution_count": 0,
      "outputs": [
        {
          "output_type": "execute_result",
          "data": {
            "text/plain": [
              "Index(['UniqueID', 'disbursed_amount', 'asset_cost', 'ltv', 'branch_id',\n",
              "       'supplier_id', 'manufacturer_id', 'Current_pincode_ID', 'Date.of.Birth',\n",
              "       'Employment.Type', 'DisbursalDate', 'State_ID', 'Employee_code_ID',\n",
              "       'MobileNo_Avl_Flag', 'Aadhar_flag', 'PAN_flag', 'VoterID_flag',\n",
              "       'Driving_flag', 'Passport_flag', 'PERFORM_CNS.SCORE',\n",
              "       'PERFORM_CNS.SCORE.DESCRIPTION', 'PRI.NO.OF.ACCTS', 'PRI.ACTIVE.ACCTS',\n",
              "       'PRI.OVERDUE.ACCTS', 'PRI.CURRENT.BALANCE', 'PRI.SANCTIONED.AMOUNT',\n",
              "       'PRI.DISBURSED.AMOUNT', 'SEC.NO.OF.ACCTS', 'SEC.ACTIVE.ACCTS',\n",
              "       'SEC.OVERDUE.ACCTS', 'SEC.CURRENT.BALANCE', 'SEC.SANCTIONED.AMOUNT',\n",
              "       'SEC.DISBURSED.AMOUNT', 'PRIMARY.INSTAL.AMT', 'SEC.INSTAL.AMT',\n",
              "       'NEW.ACCTS.IN.LAST.SIX.MONTHS', 'DELINQUENT.ACCTS.IN.LAST.SIX.MONTHS',\n",
              "       'AVERAGE.ACCT.AGE', 'CREDIT.HISTORY.LENGTH', 'NO.OF_INQUIRIES',\n",
              "       'loan_default'],\n",
              "      dtype='object')"
            ]
          },
          "metadata": {
            "tags": []
          },
          "execution_count": 47
        }
      ]
    },
    {
      "metadata": {
        "id": "1mrn5AbarbAr",
        "colab_type": "code",
        "colab": {}
      },
      "cell_type": "code",
      "source": [
        "train.drop(columns= ['UniqueID','PAN_flag','MobileNo_Avl_Flag'], axis=1, inplace= True)\n",
        "test.drop(columns= ['UniqueID','PAN_flag','MobileNo_Avl_Flag'], axis=1, inplace =True)"
      ],
      "execution_count": 0,
      "outputs": []
    },
    {
      "metadata": {
        "id": "ZAEONK7Yr81V",
        "colab_type": "code",
        "colab": {}
      },
      "cell_type": "code",
      "source": [
        "train['BirthYear'] = train['Date.of.Birth'].dt.year\n",
        "test['BirthYear'] = test['Date.of.Birth'].dt.year\n",
        "\n",
        "train['DisbursalYear'] = train['DisbursalDate'].dt.year\n",
        "test['DisbursalYear'] = test['DisbursalDate'].dt.year\n",
        "\n",
        "train['Offset'] = 0\n",
        "test['Offset'] = 0\n",
        "\n",
        "train.loc[train.BirthYear > 2018, 'Offset'] = 100\n",
        "test.loc[test.BirthYear > 2018, 'Offset'] = 100\n",
        "\n",
        "train['BirthYear'] = train['BirthYear'] - train['Offset']\n",
        "test['BirthYear'] = test['BirthYear'] - test['Offset']\n",
        "\n",
        "train['ClientAge'] = train['DisbursalYear'] - train['BirthYear']\n",
        "test['ClientAge'] = test['DisbursalYear'] - test['BirthYear']\n",
        "\n",
        "train.drop(['Date.of.Birth','DisbursalYear','DisbursalDate','Offset'], axis=1, inplace= True)\n",
        "test.drop(['Date.of.Birth','DisbursalYear','DisbursalDate','Offset'], axis=1, inplace= True)\n"
      ],
      "execution_count": 0,
      "outputs": []
    },
    {
      "metadata": {
        "id": "d9XB6d8r0vNz",
        "colab_type": "code",
        "colab": {}
      },
      "cell_type": "code",
      "source": [
        "train['avg_acct_age_mnth'] = ((train['AVERAGE.ACCT.AGE'].str.extract('(\\d+)yrs').astype('int64')*12) + train['AVERAGE.ACCT.AGE'].str.extract('(\\d+)mon').astype('int64'))\n",
        "train['avg_credit_hist_mnth'] = ((train['CREDIT.HISTORY.LENGTH'].str.extract('(\\d+)yrs').astype('int64')*12) + train['CREDIT.HISTORY.LENGTH'].str.extract('(\\d+)mon').astype('int64'))\n",
        "\n",
        "test['avg_acct_age_mnth'] = ((test['AVERAGE.ACCT.AGE'].str.extract('(\\d+)yrs').astype('int64')*12) + test['AVERAGE.ACCT.AGE'].str.extract('(\\d+)mon').astype('int64'))\n",
        "test['avg_credit_hist_mnth'] = ((test['CREDIT.HISTORY.LENGTH'].str.extract('(\\d+)yrs').astype('int64')*12) + test['CREDIT.HISTORY.LENGTH'].str.extract('(\\d+)mon').astype('int64'))"
      ],
      "execution_count": 0,
      "outputs": []
    },
    {
      "metadata": {
        "id": "OSmG_2gm1NX-",
        "colab_type": "code",
        "colab": {}
      },
      "cell_type": "code",
      "source": [
        "train.drop(columns= ['AVERAGE.ACCT.AGE','CREDIT.HISTORY.LENGTH'], axis=1, inplace= True)\n",
        "test.drop(columns= ['AVERAGE.ACCT.AGE','CREDIT.HISTORY.LENGTH'], axis=1, inplace =True)"
      ],
      "execution_count": 0,
      "outputs": []
    },
    {
      "metadata": {
        "id": "lEuA-76XI7t3",
        "colab_type": "code",
        "colab": {}
      },
      "cell_type": "code",
      "source": [
        "lb = LabelEncoder()\n",
        "train['Employment.Type'] = lb.fit_transform(train['Employment.Type'])\n",
        "test['Employment.Type'] = lb.transform(test['Employment.Type'])\n",
        "\n",
        "\n",
        "train['PERFORM_CNS.SCORE.DESCRIPTION'] = lb.fit_transform(train['PERFORM_CNS.SCORE.DESCRIPTION'])\n",
        "test['PERFORM_CNS.SCORE.DESCRIPTION'] = lb.transform(test['PERFORM_CNS.SCORE.DESCRIPTION'])"
      ],
      "execution_count": 0,
      "outputs": []
    },
    {
      "metadata": {
        "id": "XbUsTxUlHYI7",
        "colab_type": "code",
        "colab": {}
      },
      "cell_type": "code",
      "source": [
        "models = [\n",
        "    GradientBoostingClassifier(random_state=0, learning_rate=0.01, \n",
        "                  n_estimators=100, max_depth=5),\n",
        "        \n",
        "    RandomForestClassifier(random_state=0, n_jobs=-1, \n",
        "                           n_estimators=100, max_depth=5),\n",
        "        \n",
        "    XGBClassifier(random_state=0, n_jobs=-1, learning_rate=0.01, \n",
        "                  n_estimators=100, max_depth=5)\n",
        "]"
      ],
      "execution_count": 0,
      "outputs": []
    },
    {
      "metadata": {
        "id": "nNcHQaMqHevI",
        "colab_type": "code",
        "colab": {}
      },
      "cell_type": "code",
      "source": [
        "S_train, S_test = stacking(models,                   \n",
        "                           train.drop('loan_default',1), train.loan_default, test,   \n",
        "                           regression=False, \n",
        "                           mode='oof_pred_bag', \n",
        "                           needs_proba=True,\n",
        "                           save_dir=None, \n",
        "                           metric='roc_auc', \n",
        "                           n_folds=4, \n",
        "                           stratified=True,\n",
        "                           shuffle=True,  \n",
        "                           random_state=42) \n",
        "#                            verbose=2)"
      ],
      "execution_count": 0,
      "outputs": []
    },
    {
      "metadata": {
        "id": "FxW-qUy0mj3z",
        "colab_type": "code",
        "colab": {}
      },
      "cell_type": "code",
      "source": [
        "# x_tr = pd.DataFrame({'gbm':S_train[:,1]})\n",
        "# x_tr['rf'] =S_train[:,3]\n",
        "# x_tr['xgb'] =S_train[:,5]\n",
        "# x_tr.head()"
      ],
      "execution_count": 0,
      "outputs": []
    },
    {
      "metadata": {
        "id": "MLr8fSOsVDK8",
        "colab_type": "code",
        "colab": {}
      },
      "cell_type": "code",
      "source": [
        "# train.drop(columns= ['gbm','rf','xgb'], axis=1, inplace= True)\n",
        "# test.drop(columns= ['gbm','rf','xgb'], axis=1, inplace =True)"
      ],
      "execution_count": 0,
      "outputs": []
    },
    {
      "metadata": {
        "id": "hFb534bIL-YE",
        "colab_type": "code",
        "colab": {}
      },
      "cell_type": "code",
      "source": [
        "train['gbm'] = S_train[:,1]\n",
        "train['rf'] = S_train[:,3]\n",
        "train['xgb'] = S_train[:,5]\n",
        "\n",
        "test['gbm'] = S_test[:,1]\n",
        "test['rf'] = S_test[:,3]\n",
        "test['xgb'] = S_test[:,5]"
      ],
      "execution_count": 0,
      "outputs": []
    },
    {
      "metadata": {
        "id": "Xy_ut3BaJ3Jt",
        "colab_type": "code",
        "colab": {}
      },
      "cell_type": "code",
      "source": [
        "x_train,x_test,y_train,y_test = train_test_split(train.drop('loan_default',1), train.loan_default, test_size = 0.2,\n",
        "                                                random_state = 300)"
      ],
      "execution_count": 0,
      "outputs": []
    },
    {
      "metadata": {
        "id": "aQDLmHBcDrR7",
        "colab_type": "code",
        "colab": {}
      },
      "cell_type": "code",
      "source": [
        "categ_column = ['branch_id','supplier_id', 'manufacturer_id','Current_pincode_ID','State_ID', \n",
        "                'Employee_code_ID','Aadhar_flag','VoterID_flag','Driving_flag', 'Passport_flag',\n",
        "                'Employment.Type','PERFORM_CNS.SCORE.DESCRIPTION','avg_acct_age_mnth','avg_credit_hist_mnth']\n"
      ],
      "execution_count": 0,
      "outputs": []
    },
    {
      "metadata": {
        "id": "cq2-00BdDvrt",
        "colab_type": "code",
        "colab": {}
      },
      "cell_type": "code",
      "source": [
        "_train = Pool(x_train, label=y_train,cat_features= categ_column)\n",
        "_valid = Pool(x_test, label=y_test,cat_features= categ_column)"
      ],
      "execution_count": 0,
      "outputs": []
    },
    {
      "metadata": {
        "id": "prqibjW4nhEQ",
        "colab_type": "code",
        "colab": {}
      },
      "cell_type": "code",
      "source": [
        "# _train = Pool(x_train, label=y_train)\n",
        "# _valid = Pool(x_test, label=y_test)"
      ],
      "execution_count": 0,
      "outputs": []
    },
    {
      "metadata": {
        "id": "-ZdCWhRQDxNB",
        "colab_type": "code",
        "colab": {}
      },
      "cell_type": "code",
      "source": [
        "model = CatBoostClassifier(subsample=0.9, \n",
        "                           custom_loss='Logloss',\n",
        "                           l2_leaf_reg = 10,\n",
        "                           random_strength = 0,\n",
        "                           max_depth=7,\n",
        "                           eval_metric=\"AUC\",\n",
        "                           learning_rate=0.01,\n",
        "                           iterations=10000,\n",
        "                           bootstrap_type='Bernoulli',\n",
        "                           task_type=\"GPU\",\n",
        "                           random_seed=42,\n",
        "                           od_type=\"Iter\",\n",
        "                           border_count=128\n",
        "                          )"
      ],
      "execution_count": 0,
      "outputs": []
    },
    {
      "metadata": {
        "id": "es2QcS6eDyl0",
        "colab_type": "code",
        "outputId": "57f598ed-f917-4ff3-e545-282a9d7f8852",
        "colab": {
          "base_uri": "https://localhost:8080/",
          "height": 221
        }
      },
      "cell_type": "code",
      "source": [
        "fit_model = model.fit(_train,verbose_eval=1000, early_stopping_rounds=1000,\n",
        "                      eval_set=[_valid],use_best_model=True,plot=False)"
      ],
      "execution_count": 0,
      "outputs": [
        {
          "output_type": "stream",
          "text": [
            "0:\tlearn: 0.6452306\ttest: 0.6467279\tbest: 0.6467279 (0)\ttotal: 81.5ms\tremaining: 13m 34s\n",
            "1000:\tlearn: 0.6842019\ttest: 0.6722206\tbest: 0.6722206 (1000)\ttotal: 50.6s\tremaining: 7m 34s\n",
            "2000:\tlearn: 0.6975827\ttest: 0.6743500\tbest: 0.6743500 (2000)\ttotal: 1m 38s\tremaining: 6m 33s\n",
            "3000:\tlearn: 0.7082159\ttest: 0.6752672\tbest: 0.6752672 (3000)\ttotal: 2m 27s\tremaining: 5m 43s\n",
            "4000:\tlearn: 0.7182191\ttest: 0.6755713\tbest: 0.6755751 (3990)\ttotal: 3m 15s\tremaining: 4m 52s\n",
            "5000:\tlearn: 0.7274729\ttest: 0.6757280\tbest: 0.6757733 (4772)\ttotal: 4m 7s\tremaining: 4m 7s\n",
            "6000:\tlearn: 0.7365879\ttest: 0.6759208\tbest: 0.6759320 (5988)\ttotal: 4m 58s\tremaining: 3m 18s\n",
            "7000:\tlearn: 0.7451425\ttest: 0.6759525\tbest: 0.6759770 (6728)\ttotal: 5m 47s\tremaining: 2m 28s\n",
            "8000:\tlearn: 0.7536075\ttest: 0.6759636\tbest: 0.6759997 (7712)\ttotal: 6m 35s\tremaining: 1m 38s\n",
            "bestTest = 0.6759997308\n",
            "bestIteration = 7712\n",
            "Shrink model to first 7713 iterations.\n"
          ],
          "name": "stdout"
        }
      ]
    },
    {
      "metadata": {
        "id": "bGhANmL6D0RQ",
        "colab_type": "code",
        "colab": {}
      },
      "cell_type": "code",
      "source": [
        "prediction = fit_model.predict_proba(test)[:,1]"
      ],
      "execution_count": 0,
      "outputs": []
    },
    {
      "metadata": {
        "id": "-yTBl3ewD1hP",
        "colab_type": "code",
        "outputId": "3f1ad522-92a1-46c5-a496-d8e5c5878ba8",
        "colab": {
          "base_uri": "https://localhost:8080/",
          "height": 204
        }
      },
      "cell_type": "code",
      "source": [
        "subm = pd.read_csv('/content/sample_submission.csv')\n",
        "subm[\"loan_default\"] = prediction\n",
        "subm.to_csv(\"submission.csv\", index=False)\n",
        "subm.head()"
      ],
      "execution_count": 0,
      "outputs": [
        {
          "output_type": "execute_result",
          "data": {
            "text/html": [
              "<div>\n",
              "<style scoped>\n",
              "    .dataframe tbody tr th:only-of-type {\n",
              "        vertical-align: middle;\n",
              "    }\n",
              "\n",
              "    .dataframe tbody tr th {\n",
              "        vertical-align: top;\n",
              "    }\n",
              "\n",
              "    .dataframe thead th {\n",
              "        text-align: right;\n",
              "    }\n",
              "</style>\n",
              "<table border=\"1\" class=\"dataframe\">\n",
              "  <thead>\n",
              "    <tr style=\"text-align: right;\">\n",
              "      <th></th>\n",
              "      <th>UniqueID</th>\n",
              "      <th>loan_default</th>\n",
              "    </tr>\n",
              "  </thead>\n",
              "  <tbody>\n",
              "    <tr>\n",
              "      <th>0</th>\n",
              "      <td>655269</td>\n",
              "      <td>0.291008</td>\n",
              "    </tr>\n",
              "    <tr>\n",
              "      <th>1</th>\n",
              "      <td>723482</td>\n",
              "      <td>0.352809</td>\n",
              "    </tr>\n",
              "    <tr>\n",
              "      <th>2</th>\n",
              "      <td>758529</td>\n",
              "      <td>0.319160</td>\n",
              "    </tr>\n",
              "    <tr>\n",
              "      <th>3</th>\n",
              "      <td>763449</td>\n",
              "      <td>0.224903</td>\n",
              "    </tr>\n",
              "    <tr>\n",
              "      <th>4</th>\n",
              "      <td>708663</td>\n",
              "      <td>0.280575</td>\n",
              "    </tr>\n",
              "  </tbody>\n",
              "</table>\n",
              "</div>"
            ],
            "text/plain": [
              "   UniqueID  loan_default\n",
              "0    655269      0.291008\n",
              "1    723482      0.352809\n",
              "2    758529      0.319160\n",
              "3    763449      0.224903\n",
              "4    708663      0.280575"
            ]
          },
          "metadata": {
            "tags": []
          },
          "execution_count": 74
        }
      ]
    },
    {
      "metadata": {
        "id": "FRNK1irMTgrg",
        "colab_type": "code",
        "colab": {}
      },
      "cell_type": "code",
      "source": [
        "# fimp = pd.DataFrame.from_dict({'Columns':fit_model.feature_names_,'Value':fit_model.feature_importances_})\n",
        "# fimp = fimp.sort_values(by = 'Value', ascending = False)\n",
        "# fimp"
      ],
      "execution_count": 0,
      "outputs": []
    },
    {
      "metadata": {
        "id": "YvcWHS7rikaA",
        "colab_type": "text"
      },
      "cell_type": "markdown",
      "source": [
        "### K Fold Cross Validation"
      ]
    },
    {
      "metadata": {
        "id": "X39Z1SaRimqV",
        "colab_type": "code",
        "colab": {}
      },
      "cell_type": "code",
      "source": [
        "#  def run_cat(model,  trt, tst, tar,n_splits=5, plot=False):   \n",
        "#     kf = KFold(n_splits=n_splits, random_state=432013, shuffle=True)\n",
        "#     oof = np.zeros(len(trt))\n",
        "#     feature_importance_df = pd.DataFrame()\n",
        "#     y_valid_pred = 0 * tar\n",
        "#     y_test_pred = 0\n",
        "#     for n_fold, (train_index, valid_index) in enumerate(kf.split(trt, tar)):\n",
        "#         y_train, y_valid = tar.iloc[train_index], tar.iloc[valid_index]\n",
        "#         X_train, X_valid = trt.iloc[train_index,:], trt.iloc[valid_index,:]\n",
        "#         _train = Pool(X_train, label=y_train,cat_features= categ_column)\n",
        "#         _valid = Pool(X_valid, label=y_valid,cat_features= categ_column)\n",
        "#         print( \"Fold \", n_fold)\n",
        "#         fit_model = model.fit(_train,\n",
        "#                               verbose_eval=1000, \n",
        "#                               early_stopping_rounds=1000,\n",
        "#                               eval_set=[_valid],\n",
        "#                               use_best_model=True,\n",
        "#                               plot=False,\n",
        "                                            \n",
        "#                              )\n",
        "#         pred = fit_model.predict_proba(X_valid)[:,1]\n",
        "#         oof[valid_index] = pred\n",
        "#         print( \"auc = \", roc_auc_score(y_valid, pred) )\n",
        "#         y_valid_pred.iloc[valid_index] = pred\n",
        "#         y_test_pred += fit_model.predict_proba(tst)[:,1]\n",
        "#     y_test_pred /= n_splits\n",
        "#     print(\"average auc:\", roc_auc_score(tar, oof))\n",
        "#     return y_test_pred, oof"
      ],
      "execution_count": 0,
      "outputs": []
    },
    {
      "metadata": {
        "id": "sKvGrWaYiwbE",
        "colab_type": "code",
        "colab": {}
      },
      "cell_type": "code",
      "source": [
        "# cat_train = train.drop('loan_default',axis =1)\n",
        "# cat_target = train.loan_default\n",
        "# cat_test = test.copy()"
      ],
      "execution_count": 0,
      "outputs": []
    },
    {
      "metadata": {
        "id": "QUHNdXK7i9i-",
        "colab_type": "code",
        "colab": {}
      },
      "cell_type": "code",
      "source": [
        "# y_test_pred, oof = run_cat(model,cat_train, cat_test, cat_target)"
      ],
      "execution_count": 0,
      "outputs": []
    },
    {
      "metadata": {
        "id": "AMpeH9mSjaV2",
        "colab_type": "code",
        "colab": {}
      },
      "cell_type": "code",
      "source": [
        "# sub_df = pd.read_csv('/content/sample_submission.csv')\n",
        "# sub_df[\"loan_default\"] = y_test_pred\n",
        "# sub_df.to_csv(\"submission_kfold.csv\", index=False)\n",
        "# sub_df.head()"
      ],
      "execution_count": 0,
      "outputs": []
    },
    {
      "metadata": {
        "id": "AvTeNaBQjhAS",
        "colab_type": "code",
        "colab": {}
      },
      "cell_type": "code",
      "source": [
        ""
      ],
      "execution_count": 0,
      "outputs": []
    }
  ]
}